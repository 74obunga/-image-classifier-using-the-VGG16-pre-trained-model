{
  "cells": [
    {
      "cell_type": "markdown",
      "metadata": {
        "id": "view-in-github",
        "colab_type": "text"
      },
      "source": [
        "<a href=\"https://colab.research.google.com/github/74obunga/-image-classifier-using-the-VGG16-pre-trained-model/blob/main/DL0321EN_4_1_Comparing_Models_py_v1_0_(4).ipynb\" target=\"_parent\"><img src=\"https://colab.research.google.com/assets/colab-badge.svg\" alt=\"Open In Colab\"/></a>"
      ]
    },
    {
      "cell_type": "markdown",
      "metadata": {
        "button": false,
        "deletable": true,
        "new_sheet": false,
        "run_control": {
          "read_only": false
        },
        "id": "mgaFfjiJLw-P"
      },
      "source": [
        "<a href=\"https://cognitiveclass.ai\"><img src = \"https://s3-api.us-geo.objectstorage.softlayer.net/cf-courses-data/CognitiveClass/Logos/organization_logo/organization_logo.png\" width = 400> </a>\n",
        "\n",
        "<h1 align=center><font size = 5>Peer Review Final Assignment</font></h1>"
      ]
    },
    {
      "cell_type": "markdown",
      "metadata": {
        "button": false,
        "deletable": true,
        "new_sheet": false,
        "run_control": {
          "read_only": false
        },
        "id": "imqOZ_7fLw-T"
      },
      "source": [
        "## Introduction\n"
      ]
    },
    {
      "cell_type": "markdown",
      "metadata": {
        "button": false,
        "deletable": true,
        "new_sheet": false,
        "run_control": {
          "read_only": false
        },
        "id": "60f-8iZHLw-U"
      },
      "source": [
        "In this lab, you will build an image classifier using the VGG16 pre-trained model, and you will evaluate it and compare its performance to the model we built in the last module using the ResNet50 pre-trained model. Good luck!"
      ]
    },
    {
      "cell_type": "markdown",
      "metadata": {
        "button": false,
        "deletable": true,
        "new_sheet": false,
        "run_control": {
          "read_only": false
        },
        "id": "L8ePg1nGLw-V"
      },
      "source": [
        "## Table of Contents\n",
        "\n",
        "<div class=\"alert alert-block alert-info\" style=\"margin-top: 20px\">\n",
        "\n",
        "<font size = 3>    \n",
        "\n",
        "1. <a href=\"#item41\">Download Data\n",
        "2. <a href=\"#item42\">Part 1</a>\n",
        "3. <a href=\"#item43\">Part 2</a>  \n",
        "4. <a href=\"#item44\">Part 3</a>  \n",
        "\n",
        "</font>\n",
        "    \n",
        "</div>"
      ]
    },
    {
      "cell_type": "markdown",
      "metadata": {
        "button": false,
        "deletable": true,
        "new_sheet": false,
        "run_control": {
          "read_only": false
        },
        "id": "6_bD4B-kLw-W"
      },
      "source": [
        "   "
      ]
    },
    {
      "cell_type": "markdown",
      "metadata": {
        "id": "9qfavgrQLw-X"
      },
      "source": [
        "<a id=\"item41\"></a>"
      ]
    },
    {
      "cell_type": "markdown",
      "metadata": {
        "id": "0iSg1gehLw-X"
      },
      "source": [
        "## Download Data"
      ]
    },
    {
      "cell_type": "markdown",
      "metadata": {
        "id": "VZi-6At8Lw-Y"
      },
      "source": [
        "Use the <code>wget</code> command to download the data for this assignment from here: https://s3-api.us-geo.objectstorage.softlayer.net/cf-courses-data/CognitiveClass/DL0321EN/data/concrete_data_week4.zip"
      ]
    },
    {
      "cell_type": "markdown",
      "metadata": {
        "id": "T_Z3P6E5Lw-Y"
      },
      "source": [
        "Use the following cells to download the data."
      ]
    },
    {
      "cell_type": "code",
      "execution_count": 1,
      "metadata": {
        "colab": {
          "base_uri": "https://localhost:8080/"
        },
        "id": "0g-NdZBnLw-a",
        "outputId": "cf78627e-f478-40f3-e696-7820f2903a3d"
      },
      "outputs": [
        {
          "output_type": "stream",
          "name": "stdout",
          "text": [
            "--2024-07-25 17:16:22--  https://s3-api.us-geo.objectstorage.softlayer.net/cf-courses-data/CognitiveClass/DL0321EN/data/concrete_data_week4.zip\n",
            "Resolving s3-api.us-geo.objectstorage.softlayer.net (s3-api.us-geo.objectstorage.softlayer.net)... 67.228.254.196\n",
            "Connecting to s3-api.us-geo.objectstorage.softlayer.net (s3-api.us-geo.objectstorage.softlayer.net)|67.228.254.196|:443... connected.\n",
            "HTTP request sent, awaiting response... 200 OK\n",
            "Length: 261483817 (249M) [application/zip]\n",
            "Saving to: ‘concrete_data_week4.zip’\n",
            "\n",
            "concrete_data_week4 100%[===================>] 249.37M  10.2MB/s    in 24s     \n",
            "\n",
            "2024-07-25 17:16:47 (10.3 MB/s) - ‘concrete_data_week4.zip’ saved [261483817/261483817]\n",
            "\n"
          ]
        }
      ],
      "source": [
        "!wget https://s3-api.us-geo.objectstorage.softlayer.net/cf-courses-data/CognitiveClass/DL0321EN/data/concrete_data_week4.zip -O concrete_data_week4.zip\n"
      ]
    },
    {
      "cell_type": "code",
      "execution_count": 2,
      "metadata": {
        "id": "bpt2c0NULw-d"
      },
      "outputs": [],
      "source": [
        "import zipfile\n",
        "import os\n",
        "\n",
        "# Ensure the zip file is correctly downloaded\n",
        "if os.path.exists('concrete_data_week4.zip'):\n",
        "    with zipfile.ZipFile('concrete_data_week4.zip', 'r') as zip_ref:\n",
        "        zip_ref.extractall('concrete_data_week4')\n",
        "else:\n",
        "    print(\"Download failed or the file doesn't exist.\")\n",
        "\n"
      ]
    },
    {
      "cell_type": "code",
      "source": [
        "import os\n",
        "\n",
        "# Check the contents of the main directory\n",
        "print(os.listdir('concrete_data_week4'))\n",
        "\n",
        "# Check the contents of any subdirectories\n",
        "for subdir in os.listdir('concrete_data_week4'):\n",
        "    print(f\"Contents of {subdir}:\")\n",
        "    print(os.listdir(os.path.join('concrete_data_week4', subdir)))\n"
      ],
      "metadata": {
        "colab": {
          "base_uri": "https://localhost:8080/"
        },
        "id": "6gefSrCA1pHB",
        "outputId": "736ce609-3711-4de4-9a42-313281be2bf8"
      },
      "execution_count": 3,
      "outputs": [
        {
          "output_type": "stream",
          "name": "stdout",
          "text": [
            "['__MACOSX', 'concrete_data_week4']\n",
            "Contents of __MACOSX:\n",
            "['concrete_data_week4']\n",
            "Contents of concrete_data_week4:\n",
            "['.DS_Store', 'valid', 'train', 'test']\n"
          ]
        }
      ]
    },
    {
      "cell_type": "markdown",
      "metadata": {
        "id": "-cDSt2EvLw-d"
      },
      "source": [
        "After you unzip the data, you fill find the data has already been divided into a train, validation, and test sets."
      ]
    },
    {
      "cell_type": "code",
      "source": [
        "import os\n",
        "\n",
        "# Check the contents of the main directory\n",
        "main_dir = 'concrete_data_week4'\n",
        "print(f\"Contents of '{main_dir}':\", os.listdir(main_dir))\n",
        "\n",
        "# Check the subdirectories inside the main directory\n",
        "for subdir in os.listdir(main_dir):\n",
        "    subdir_path = os.path.join(main_dir, subdir)\n",
        "    if os.path.isdir(subdir_path):\n",
        "        print(f\"Contents of '{subdir_path}':\", os.listdir(subdir_path))\n"
      ],
      "metadata": {
        "colab": {
          "base_uri": "https://localhost:8080/"
        },
        "id": "Yk-W1xe376xK",
        "outputId": "766f00c3-b4e7-4a37-a4fb-7533ea329925"
      },
      "execution_count": 4,
      "outputs": [
        {
          "output_type": "stream",
          "name": "stdout",
          "text": [
            "Contents of 'concrete_data_week4': ['__MACOSX', 'concrete_data_week4']\n",
            "Contents of 'concrete_data_week4/__MACOSX': ['concrete_data_week4']\n",
            "Contents of 'concrete_data_week4/concrete_data_week4': ['.DS_Store', 'valid', 'train', 'test']\n"
          ]
        }
      ]
    },
    {
      "cell_type": "markdown",
      "metadata": {
        "id": "j4T4tgP6Lw-e"
      },
      "source": [
        "  "
      ]
    },
    {
      "cell_type": "markdown",
      "metadata": {
        "button": false,
        "deletable": true,
        "new_sheet": false,
        "run_control": {
          "read_only": false
        },
        "id": "DIKJyEiQLw-e"
      },
      "source": [
        "<a id=\"item42\"></a>"
      ]
    },
    {
      "cell_type": "markdown",
      "metadata": {
        "id": "Q7qtWeVULw-f"
      },
      "source": [
        "## Part 1"
      ]
    },
    {
      "cell_type": "markdown",
      "metadata": {
        "id": "3I9C32oFLw-f"
      },
      "source": [
        "In this part, you will design a classifier using the VGG16 pre-trained model. Just like the ResNet50 model, you can import the model <code>VGG16</code> from <code>keras.applications</code>."
      ]
    },
    {
      "cell_type": "markdown",
      "metadata": {
        "id": "d77_Dgl7Lw-f"
      },
      "source": [
        "You will essentially build your classifier as follows:\n",
        "1. Import libraries, modules, and packages you will need. Make sure to import the *preprocess_input* function from <code>keras.applications.vgg16</code>.\n",
        "2. Use a batch size of 100 images for both training and validation.\n",
        "3. Construct an ImageDataGenerator for the training set and another one for the validation set. VGG16 was originally trained on 224 × 224 images, so make sure to address that when defining the ImageDataGenerator instances.\n",
        "4. Create a sequential model using Keras. Add VGG16 model to it and dense layer.\n",
        "5. Compile the mode using the adam optimizer and the categorical_crossentropy loss function.\n",
        "6. Fit the model on the augmented data using the ImageDataGenerators."
      ]
    },
    {
      "cell_type": "markdown",
      "metadata": {
        "id": "CE0cYyjPLw-g"
      },
      "source": [
        "Use the following cells to create your classifier."
      ]
    },
    {
      "cell_type": "code",
      "source": [
        "from tensorflow.keras.applications import ResNet50"
      ],
      "metadata": {
        "id": "_EkfdrX0O8cr"
      },
      "execution_count": 12,
      "outputs": []
    },
    {
      "cell_type": "code",
      "execution_count": 5,
      "metadata": {
        "colab": {
          "base_uri": "https://localhost:8080/"
        },
        "id": "EcO-vmF3Lw-h",
        "outputId": "619c733a-b04d-4964-8041-e3bfd4cc48b7"
      },
      "outputs": [
        {
          "output_type": "stream",
          "name": "stdout",
          "text": [
            "Found 30001 images belonging to 2 classes.\n",
            "Found 9501 images belonging to 2 classes.\n",
            "Downloading data from https://storage.googleapis.com/tensorflow/keras-applications/vgg16/vgg16_weights_tf_dim_ordering_tf_kernels_notop.h5\n",
            "58889256/58889256 [==============================] - 0s 0us/step\n",
            "Epoch 1/10\n",
            "300/300 [==============================] - 454s 1s/step - loss: 0.1019 - accuracy: 0.9895 - val_loss: 0.0135 - val_accuracy: 0.9976\n",
            "Epoch 2/10\n",
            "300/300 [==============================] - 436s 1s/step - loss: 0.0331 - accuracy: 0.9951 - val_loss: 0.0143 - val_accuracy: 0.9962\n",
            "Epoch 3/10\n",
            "300/300 [==============================] - 436s 1s/step - loss: 0.0175 - accuracy: 0.9965 - val_loss: 0.0091 - val_accuracy: 0.9966\n",
            "Epoch 4/10\n",
            "300/300 [==============================] - 436s 1s/step - loss: 0.0094 - accuracy: 0.9974 - val_loss: 0.0091 - val_accuracy: 0.9972\n",
            "Epoch 5/10\n",
            "300/300 [==============================] - 437s 1s/step - loss: 0.0071 - accuracy: 0.9984 - val_loss: 0.0066 - val_accuracy: 0.9980\n",
            "Epoch 6/10\n",
            "300/300 [==============================] - 436s 1s/step - loss: 0.0074 - accuracy: 0.9978 - val_loss: 0.0055 - val_accuracy: 0.9978\n",
            "Epoch 7/10\n",
            "300/300 [==============================] - 437s 1s/step - loss: 0.0059 - accuracy: 0.9982 - val_loss: 0.0066 - val_accuracy: 0.9978\n",
            "Epoch 8/10\n",
            "300/300 [==============================] - 434s 1s/step - loss: 0.0070 - accuracy: 0.9982 - val_loss: 0.0080 - val_accuracy: 0.9974\n",
            "Epoch 9/10\n",
            "300/300 [==============================] - 437s 1s/step - loss: 0.0052 - accuracy: 0.9986 - val_loss: 0.0071 - val_accuracy: 0.9976\n",
            "Epoch 10/10\n",
            "300/300 [==============================] - 435s 1s/step - loss: 0.0128 - accuracy: 0.9972 - val_loss: 0.0077 - val_accuracy: 0.9976\n"
          ]
        },
        {
          "output_type": "execute_result",
          "data": {
            "text/plain": [
              "<keras.src.callbacks.History at 0x7bd83c6cf250>"
            ]
          },
          "metadata": {},
          "execution_count": 5
        }
      ],
      "source": [
        "from tensorflow.keras.preprocessing.image import ImageDataGenerator\n",
        "from tensorflow.keras.applications.vgg16 import preprocess_input\n",
        "from tensorflow.keras.applications import VGG16\n",
        "from tensorflow.keras.models import Sequential\n",
        "from tensorflow.keras.layers import Dense, Flatten\n",
        "from tensorflow.keras.optimizers import Adam\n",
        "\n",
        "batch_size = 100\n",
        "\n",
        "# Define ImageDataGenerators\n",
        "train_datagen = ImageDataGenerator(\n",
        "    preprocessing_function=preprocess_input,\n",
        "    rotation_range=10,\n",
        "    width_shift_range=0.1,\n",
        "    height_shift_range=0.1,\n",
        "    shear_range=0.1,\n",
        "    zoom_range=0.1,\n",
        "    horizontal_flip=True\n",
        ")\n",
        "\n",
        "val_datagen = ImageDataGenerator(preprocessing_function=preprocess_input)\n",
        "\n",
        "# Correct paths based on the actual structure\n",
        "train_generator = train_datagen.flow_from_directory(\n",
        "    'concrete_data_week4/concrete_data_week4/train',\n",
        "    target_size=(224, 224),\n",
        "    batch_size=batch_size,\n",
        "    class_mode='categorical'\n",
        ")\n",
        "\n",
        "validation_generator = val_datagen.flow_from_directory(\n",
        "    'concrete_data_week4/concrete_data_week4/valid',\n",
        "    target_size=(224, 224),\n",
        "    batch_size=batch_size,\n",
        "    class_mode='categorical'\n",
        ")\n",
        "\n",
        "# Load the VGG16 model\n",
        "vgg16_base = VGG16(weights='imagenet', include_top=False, input_shape=(224, 224, 3))\n",
        "\n",
        "# Create a new model on top\n",
        "model = Sequential()\n",
        "model.add(vgg16_base)\n",
        "model.add(Flatten())\n",
        "model.add(Dense(256, activation='relu'))\n",
        "model.add(Dense(2, activation='softmax'))  # Adjust number of classes as needed\n",
        "\n",
        "# Freeze the base VGG16 layers\n",
        "vgg16_base.trainable = False\n",
        "\n",
        "# Compile the model\n",
        "model.compile(optimizer=Adam(), loss='categorical_crossentropy', metrics=['accuracy'])\n",
        "\n",
        "# Train the model\n",
        "model.fit(\n",
        "    train_generator,\n",
        "    steps_per_epoch=train_generator.samples // batch_size,\n",
        "    validation_data=validation_generator,\n",
        "    validation_steps=validation_generator.samples // batch_size,\n",
        "    epochs=10\n",
        ")\n",
        "\n",
        "\n"
      ]
    },
    {
      "cell_type": "code",
      "execution_count": 13,
      "metadata": {
        "id": "FIO26ANaLw-h",
        "colab": {
          "base_uri": "https://localhost:8080/"
        },
        "outputId": "81e86b85-e219-4fba-fcc2-8769388a6d26"
      },
      "outputs": [
        {
          "output_type": "stream",
          "name": "stderr",
          "text": [
            "/usr/local/lib/python3.10/dist-packages/keras/src/engine/training.py:3103: UserWarning: You are saving your model as an HDF5 file via `model.save()`. This file format is considered legacy. We recommend using instead the native Keras format, e.g. `model.save('my_model.keras')`.\n",
            "  saving_api.save_model(\n"
          ]
        }
      ],
      "source": [
        "# Save the trained VGG16 model\n",
        "model.save('vgg16_model.h5')\n"
      ]
    },
    {
      "cell_type": "code",
      "execution_count": null,
      "metadata": {
        "scrolled": true,
        "colab": {
          "base_uri": "https://localhost:8080/",
          "height": 106
        },
        "id": "9Q8JfgPlLw-h",
        "outputId": "2de57902-d812-465d-acbf-60191cdb18f3"
      },
      "outputs": [
        {
          "output_type": "error",
          "ename": "SyntaxError",
          "evalue": "unmatched ')' (<ipython-input-9-35f86578a457>, line 40)",
          "traceback": [
            "\u001b[0;36m  File \u001b[0;32m\"<ipython-input-9-35f86578a457>\"\u001b[0;36m, line \u001b[0;32m40\u001b[0m\n\u001b[0;31m    )\u001b[0m\n\u001b[0m    ^\u001b[0m\n\u001b[0;31mSyntaxError\u001b[0m\u001b[0;31m:\u001b[0m unmatched ')'\n"
          ]
        }
      ],
      "source": [
        "#"
      ]
    },
    {
      "cell_type": "code",
      "execution_count": 16,
      "metadata": {
        "id": "6g3LPgTSLw-i",
        "colab": {
          "base_uri": "https://localhost:8080/"
        },
        "outputId": "84e12230-7dbf-4b21-bd20-159c64c779ef"
      },
      "outputs": [
        {
          "output_type": "stream",
          "name": "stdout",
          "text": [
            "Found 30001 images belonging to 2 classes.\n",
            "Found 9501 images belonging to 2 classes.\n",
            "Downloading data from https://storage.googleapis.com/tensorflow/keras-applications/resnet/resnet50_weights_tf_dim_ordering_tf_kernels_notop.h5\n",
            "94765736/94765736 [==============================] - 0s 0us/step\n",
            "Epoch 1/10\n",
            "300/300 [==============================] - 143s 446ms/step - loss: 0.4330 - accuracy: 0.9913 - val_loss: 0.0092 - val_accuracy: 0.9966\n",
            "Epoch 2/10\n",
            "300/300 [==============================] - 132s 438ms/step - loss: 0.0023 - accuracy: 0.9996 - val_loss: 0.0070 - val_accuracy: 0.9983\n",
            "Epoch 3/10\n",
            "300/300 [==============================] - 132s 439ms/step - loss: 5.6850e-04 - accuracy: 0.9999 - val_loss: 0.0067 - val_accuracy: 0.9983\n",
            "Epoch 4/10\n",
            "300/300 [==============================] - 131s 438ms/step - loss: 2.8088e-04 - accuracy: 0.9998 - val_loss: 0.0070 - val_accuracy: 0.9986\n",
            "Epoch 5/10\n",
            "300/300 [==============================] - 131s 436ms/step - loss: 1.6286e-04 - accuracy: 0.9999 - val_loss: 0.0071 - val_accuracy: 0.9983\n",
            "Epoch 6/10\n",
            "300/300 [==============================] - 132s 440ms/step - loss: 1.3128e-04 - accuracy: 0.9999 - val_loss: 0.0075 - val_accuracy: 0.9981\n",
            "Epoch 7/10\n",
            "300/300 [==============================] - 135s 449ms/step - loss: 1.0870e-04 - accuracy: 0.9999 - val_loss: 0.0075 - val_accuracy: 0.9983\n",
            "Epoch 8/10\n",
            "300/300 [==============================] - 132s 440ms/step - loss: 1.0395e-04 - accuracy: 1.0000 - val_loss: 0.0075 - val_accuracy: 0.9982\n",
            "Epoch 9/10\n",
            "300/300 [==============================] - 131s 436ms/step - loss: 1.0110e-04 - accuracy: 1.0000 - val_loss: 0.0075 - val_accuracy: 0.9983\n",
            "Epoch 10/10\n",
            "300/300 [==============================] - 131s 438ms/step - loss: 1.0968e-04 - accuracy: 0.9999 - val_loss: 0.0077 - val_accuracy: 0.9982\n"
          ]
        }
      ],
      "source": [
        "from tensorflow.keras.applications import ResNet50\n",
        "from tensorflow.keras.models import Sequential\n",
        "from tensorflow.keras.layers import Dense, Flatten\n",
        "from tensorflow.keras.preprocessing.image import ImageDataGenerator\n",
        "from tensorflow.keras.optimizers import Adam\n",
        "\n",
        "# Define paths\n",
        "train_data_dir = 'concrete_data_week4/concrete_data_week4/train'\n",
        "valid_data_dir = 'concrete_data_week4/concrete_data_week4/valid'\n",
        "test_data_dir = 'concrete_data_week4/concrete_data_week4/test'\n",
        "\n",
        "# ImageDataGenerators\n",
        "train_datagen = ImageDataGenerator(preprocessing_function=preprocess_input)\n",
        "val_datagen = ImageDataGenerator(preprocessing_function=preprocess_input)\n",
        "\n",
        "train_generator = train_datagen.flow_from_directory(\n",
        "    train_data_dir,\n",
        "    target_size=(224, 224),\n",
        "    batch_size=batch_size,\n",
        "    class_mode='categorical'\n",
        ")\n",
        "\n",
        "validation_generator = val_datagen.flow_from_directory(\n",
        "    valid_data_dir,\n",
        "    target_size=(224, 224),\n",
        "    batch_size=batch_size,\n",
        "    class_mode='categorical'\n",
        ")\n",
        "\n",
        "# Load ResNet50 base model\n",
        "resnet50_base = ResNet50(weights='imagenet', include_top=False, input_shape=(224, 224, 3))\n",
        "\n",
        "# Create a new model on top\n",
        "resnet50_model = Sequential()\n",
        "resnet50_model.add(resnet50_base)\n",
        "resnet50_model.add(Flatten())\n",
        "resnet50_model.add(Dense(256, activation='relu'))\n",
        "resnet50_model.add(Dense(2, activation='softmax'))  # Adjust number of classes as needed\n",
        "\n",
        "# Freeze the base ResNet50 layers\n",
        "resnet50_base.trainable = False\n",
        "\n",
        "# Compile the model\n",
        "resnet50_model.compile(optimizer=Adam(), loss='categorical_crossentropy', metrics=['accuracy'])\n",
        "\n",
        "# Train the model\n",
        "resnet50_model.fit(\n",
        "    train_generator,\n",
        "    steps_per_epoch=train_generator.samples // batch_size,\n",
        "    validation_data=validation_generator,\n",
        "    validation_steps=validation_generator.samples // batch_size,\n",
        "    epochs=10\n",
        ")\n",
        "\n",
        "# Save the trained model\n",
        "resnet50_model.save('resnet50_model.h5')\n"
      ]
    },
    {
      "cell_type": "code",
      "execution_count": null,
      "metadata": {
        "id": "wZidZL1aLw-i"
      },
      "outputs": [],
      "source": []
    },
    {
      "cell_type": "code",
      "execution_count": null,
      "metadata": {
        "id": "cz3r_RrlLw-i"
      },
      "outputs": [],
      "source": []
    },
    {
      "cell_type": "code",
      "execution_count": null,
      "metadata": {
        "id": "MHCLynxPLw-i"
      },
      "outputs": [],
      "source": []
    },
    {
      "cell_type": "code",
      "execution_count": null,
      "metadata": {
        "id": "CyS3Y_a-Lw-j"
      },
      "outputs": [],
      "source": []
    },
    {
      "cell_type": "code",
      "execution_count": null,
      "metadata": {
        "id": "GdVrBjikLw-j"
      },
      "outputs": [],
      "source": []
    },
    {
      "cell_type": "code",
      "execution_count": null,
      "metadata": {
        "id": "jG9N-O1GLw-j"
      },
      "outputs": [],
      "source": []
    },
    {
      "cell_type": "code",
      "execution_count": null,
      "metadata": {
        "id": "M2hzGFrMLw-k"
      },
      "outputs": [],
      "source": []
    },
    {
      "cell_type": "markdown",
      "metadata": {
        "id": "fRmda_X_Lw-k"
      },
      "source": [
        "   "
      ]
    },
    {
      "cell_type": "markdown",
      "metadata": {
        "id": "3LLYuU_ILw-k"
      },
      "source": [
        "<a id=\"item43\"></a>"
      ]
    },
    {
      "cell_type": "markdown",
      "metadata": {
        "id": "ohME0jEBLw-l"
      },
      "source": [
        "## Part 2"
      ]
    },
    {
      "cell_type": "markdown",
      "metadata": {
        "id": "cKnvcZYeLw-l"
      },
      "source": [
        "In this part, you will evaluate your deep learning models on a test data. For this part, you will need to do the following:\n",
        "\n",
        "1. Load your saved model that was built using the ResNet50 model.\n",
        "2. Construct an ImageDataGenerator for the test set. For this ImageDataGenerator instance, you only need to pass the directory of the test images, target size, and the **shuffle** parameter and set it to False.\n",
        "3. Use the **evaluate_generator** method to evaluate your models on the test data, by passing the above ImageDataGenerator as an argument. You can learn more about **evaluate_generator** [here](https://keras.io/models/sequential/).\n",
        "4. Print the performance of the classifier using the VGG16 pre-trained model.\n",
        "5. Print the performance of the classifier using the ResNet pre-trained model.\n"
      ]
    },
    {
      "cell_type": "markdown",
      "metadata": {
        "id": "DrFdkraaLw-m"
      },
      "source": [
        "Use the following cells to evaluate your models."
      ]
    },
    {
      "cell_type": "code",
      "execution_count": 17,
      "metadata": {
        "id": "04yVlnKqLw-n",
        "colab": {
          "base_uri": "https://localhost:8080/"
        },
        "outputId": "72b098cb-a70d-45d1-dfc4-80084823b3c5"
      },
      "outputs": [
        {
          "output_type": "stream",
          "name": "stdout",
          "text": [
            "Found 500 images belonging to 2 classes.\n",
            "5/5 [==============================] - 3s 327ms/step - loss: 0.0010 - accuracy: 1.0000\n",
            "ResNet50 Model - Loss: 0.001017495640553534, Accuracy: 1.0\n",
            "5/5 [==============================] - 2s 389ms/step - loss: 3.6416e-04 - accuracy: 1.0000\n",
            "VGG16 Model - Loss: 0.00036415987415239215, Accuracy: 1.0\n"
          ]
        }
      ],
      "source": [
        "from tensorflow.keras.models import load_model\n",
        "from tensorflow.keras.preprocessing.image import ImageDataGenerator\n",
        "\n",
        "# Define the path to the saved model\n",
        "resnet50_model_path = 'resnet50_model.h5'\n",
        "\n",
        "# Load the saved ResNet50 model\n",
        "resnet50_model = load_model(resnet50_model_path)\n",
        "\n",
        "# Create an ImageDataGenerator for the test set\n",
        "test_datagen = ImageDataGenerator(preprocessing_function=preprocess_input)\n",
        "\n",
        "test_generator = test_datagen.flow_from_directory(\n",
        "    test_data_dir,\n",
        "    target_size=(224, 224),\n",
        "    batch_size=batch_size,\n",
        "    class_mode='categorical',\n",
        "    shuffle=False\n",
        ")\n",
        "\n",
        "# Evaluate the ResNet50 model\n",
        "resnet50_loss, resnet50_accuracy = resnet50_model.evaluate(test_generator)\n",
        "print(f\"ResNet50 Model - Loss: {resnet50_loss}, Accuracy: {resnet50_accuracy}\")\n",
        "\n",
        "# Evaluate the VGG16 model\n",
        "vgg16_loss, vgg16_accuracy = model.evaluate(test_generator)  # 'model' should be your trained VGG16 model\n",
        "print(f\"VGG16 Model - Loss: {vgg16_loss}, Accuracy: {vgg16_accuracy}\")\n"
      ]
    },
    {
      "cell_type": "code",
      "source": [
        "# Number of images used for training\n",
        "num_train_images = train_generator.samples\n",
        "print(f\"Number of images used for training the VGG16 model: {num_train_images}\")\n"
      ],
      "metadata": {
        "colab": {
          "base_uri": "https://localhost:8080/"
        },
        "id": "cHwZwS1CepUE",
        "outputId": "25a2fef1-6f57-4cf0-f2f9-d358554c9ec0"
      },
      "execution_count": 19,
      "outputs": [
        {
          "output_type": "stream",
          "name": "stdout",
          "text": [
            "Number of images used for training the VGG16 model: 30001\n"
          ]
        }
      ]
    },
    {
      "cell_type": "code",
      "source": [
        "# Assuming `model` is your complete model including VGG16 base and added layers\n",
        "model.summary()\n"
      ],
      "metadata": {
        "colab": {
          "base_uri": "https://localhost:8080/"
        },
        "id": "JAnQNyS7fH28",
        "outputId": "d848d4d7-e6d8-473c-d5ca-6eedf25b16a4"
      },
      "execution_count": 20,
      "outputs": [
        {
          "output_type": "stream",
          "name": "stdout",
          "text": [
            "Model: \"sequential\"\n",
            "_________________________________________________________________\n",
            " Layer (type)                Output Shape              Param #   \n",
            "=================================================================\n",
            " vgg16 (Functional)          (None, 7, 7, 512)         14714688  \n",
            "                                                                 \n",
            " flatten (Flatten)           (None, 25088)             0         \n",
            "                                                                 \n",
            " dense (Dense)               (None, 256)               6422784   \n",
            "                                                                 \n",
            " dense_1 (Dense)             (None, 2)                 514       \n",
            "                                                                 \n",
            "=================================================================\n",
            "Total params: 21137986 (80.64 MB)\n",
            "Trainable params: 6423298 (24.50 MB)\n",
            "Non-trainable params: 14714688 (56.13 MB)\n",
            "_________________________________________________________________\n"
          ]
        }
      ]
    },
    {
      "cell_type": "code",
      "execution_count": 16,
      "metadata": {
        "id": "cTW1s63mLw-n"
      },
      "outputs": [],
      "source": []
    },
    {
      "cell_type": "code",
      "execution_count": null,
      "metadata": {
        "id": "g-6z2-2JLw-n"
      },
      "outputs": [],
      "source": []
    },
    {
      "cell_type": "code",
      "execution_count": null,
      "metadata": {
        "id": "WnURJ25gLw-o"
      },
      "outputs": [],
      "source": []
    },
    {
      "cell_type": "markdown",
      "metadata": {
        "id": "MqultzEaLw-o"
      },
      "source": [
        "   "
      ]
    },
    {
      "cell_type": "markdown",
      "metadata": {
        "id": "x_9EouiqLw-z"
      },
      "source": [
        "<a id=\"item44\"></a>"
      ]
    },
    {
      "cell_type": "markdown",
      "metadata": {
        "id": "8gOitfWGLw-0"
      },
      "source": [
        "## Part 3"
      ]
    },
    {
      "cell_type": "markdown",
      "metadata": {
        "id": "SU6HEyrgLw-0"
      },
      "source": [
        "In this model, you will predict whether the images in the test data are images of cracked concrete or not. You will do the following:\n",
        "\n",
        "1. Use the **predict_generator** method to predict the class of the images in the test data, by passing the test data ImageDataGenerator instance defined in the previous part as an argument. You can learn more about the **predict_generator** method [here](https://keras.io/models/sequential/).\n",
        "2. Report the class predictions of the first five images in the test set. You should print something list this:\n",
        "\n",
        "<center>\n",
        "    <ul style=\"list-style-type:none\">\n",
        "        <li>Positive</li>  \n",
        "        <li>Negative</li>\n",
        "        <li>Positive</li>\n",
        "        <li>Positive</li>\n",
        "        <li>Negative</li>\n",
        "    </ul>\n",
        "</center>"
      ]
    },
    {
      "cell_type": "markdown",
      "metadata": {
        "id": "F8-H8BUELw-0"
      },
      "source": [
        "Use the following cells to make your predictions."
      ]
    },
    {
      "cell_type": "code",
      "execution_count": 18,
      "metadata": {
        "id": "O8S1_-2yLw-1",
        "colab": {
          "base_uri": "https://localhost:8080/"
        },
        "outputId": "0a982730-3819-48bd-c71c-30c5eac7961d"
      },
      "outputs": [
        {
          "output_type": "stream",
          "name": "stdout",
          "text": [
            "Found 500 images belonging to 2 classes.\n",
            "500/500 [==============================] - 4s 8ms/step\n",
            "Image 1: negative\n",
            "Image 2: negative\n",
            "Image 3: negative\n",
            "Image 4: negative\n",
            "Image 5: negative\n"
          ]
        }
      ],
      "source": [
        "from tensorflow.keras.models import load_model\n",
        "from tensorflow.keras.preprocessing.image import ImageDataGenerator\n",
        "from tensorflow.keras.applications.vgg16 import preprocess_input\n",
        "import numpy as np\n",
        "\n",
        "# Define the path to the saved VGG16 model\n",
        "vgg16_model_path = 'vgg16_model.h5'\n",
        "\n",
        "# Load the saved VGG16 model\n",
        "vgg16_model = load_model(vgg16_model_path)\n",
        "\n",
        "# Define the path to the test data directory\n",
        "test_data_dir = 'concrete_data_week4/concrete_data_week4/test'\n",
        "\n",
        "# Create an ImageDataGenerator for the test set\n",
        "test_datagen = ImageDataGenerator(preprocessing_function=preprocess_input)\n",
        "\n",
        "test_generator = test_datagen.flow_from_directory(\n",
        "    test_data_dir,\n",
        "    target_size=(224, 224),\n",
        "    batch_size=1,  # Predicting one image at a time\n",
        "    class_mode='categorical',\n",
        "    shuffle=False\n",
        ")\n",
        "\n",
        "# Predict the class of the images in the test data\n",
        "predictions = vgg16_model.predict(test_generator)\n",
        "\n",
        "# Get the class indices\n",
        "class_indices = {v: k for k, v in test_generator.class_indices.items()}\n",
        "\n",
        "# Convert predictions to class labels\n",
        "predicted_classes = np.argmax(predictions, axis=1)\n",
        "predicted_labels = [class_indices[idx] for idx in predicted_classes]\n",
        "\n",
        "# Report the class predictions of the first five images\n",
        "for i in range(5):\n",
        "    print(f\"Image {i + 1}: {predicted_labels[i]}\")\n"
      ]
    },
    {
      "cell_type": "code",
      "execution_count": null,
      "metadata": {
        "id": "wcbyQFY3Lw-1"
      },
      "outputs": [],
      "source": []
    },
    {
      "cell_type": "code",
      "execution_count": null,
      "metadata": {
        "id": "oc5bR51BLw-1"
      },
      "outputs": [],
      "source": []
    },
    {
      "cell_type": "code",
      "execution_count": null,
      "metadata": {
        "id": "EGQ3_GLTLw-1"
      },
      "outputs": [],
      "source": []
    },
    {
      "cell_type": "markdown",
      "metadata": {
        "id": "Pf4SqrQ3Lw-2"
      },
      "source": [
        "  "
      ]
    },
    {
      "cell_type": "markdown",
      "metadata": {
        "button": false,
        "deletable": true,
        "new_sheet": false,
        "run_control": {
          "read_only": false
        },
        "id": "LVqEcJl7Lw-2"
      },
      "source": [
        "### Thank you for completing this lab!\n",
        "\n",
        "This notebook was created by Alex Aklson."
      ]
    },
    {
      "cell_type": "markdown",
      "metadata": {
        "button": false,
        "deletable": true,
        "new_sheet": false,
        "run_control": {
          "read_only": false
        },
        "id": "tU27Y8O5Lw-2"
      },
      "source": [
        "This notebook is part of a course on **Coursera** called *AI Capstone Project with Deep Learning*. If you accessed this notebook outside the course, you can take this course online by clicking [here](https://cocl.us/DL0321EN_Coursera_Week4_LAB1)."
      ]
    },
    {
      "cell_type": "markdown",
      "metadata": {
        "button": false,
        "deletable": true,
        "new_sheet": false,
        "run_control": {
          "read_only": false
        },
        "id": "4KBzQuKSLw-3"
      },
      "source": [
        "<hr>\n",
        "\n",
        "Copyright &copy; 2020 [IBM Developer Skills Network](https://cognitiveclass.ai/?utm_source=bducopyrightlink&utm_medium=dswb&utm_campaign=bdu). This notebook and its source code are released under the terms of the [MIT License](https://bigdatauniversity.com/mit-license/)."
      ]
    }
  ],
  "metadata": {
    "kernelspec": {
      "display_name": "Python",
      "language": "python",
      "name": "conda-env-python-py"
    },
    "language_info": {
      "codemirror_mode": {
        "name": "ipython",
        "version": 3
      },
      "file_extension": ".py",
      "mimetype": "text/x-python",
      "name": "python",
      "nbconvert_exporter": "python",
      "pygments_lexer": "ipython3",
      "version": "3.6.7"
    },
    "colab": {
      "provenance": [],
      "gpuType": "T4",
      "include_colab_link": true
    },
    "accelerator": "GPU"
  },
  "nbformat": 4,
  "nbformat_minor": 0
}